{
 "cells": [
  {
   "cell_type": "code",
   "execution_count": 2,
   "metadata": {},
   "outputs": [],
   "source": [
    "import numpy as np\n",
    "import matplotlib.pyplot as plt\n",
    "from matplotlib import colors"
   ]
  },
  {
   "cell_type": "code",
   "execution_count": 3,
   "metadata": {},
   "outputs": [],
   "source": [
    "class Ising:\n",
    "    def __init__(self, L, T):\n",
    "        self.L = L\n",
    "        self.T = T\n",
    "        self.E = 0\n",
    "        w = {}\n",
    "        for i in range(L):\n",
    "            for j in range(L):\n",
    "                for k in range(L):\n",
    "                    w[i,j,k] = 0\n",
    "\n",
    "        self.x = w\n",
    "    def SetGS(self):\n",
    "        for i in range(self.L):\n",
    "            for j in range(self.L):\n",
    "                for k in range(self.L):\n",
    "                    self.x[i,j,k] = 1\n",
    "        self.E = 0\n",
    "        \n",
    "    def Random(self):\n",
    "        for i in range(self.L):\n",
    "            for j in range(self.L):\n",
    "                for k in range(self.L):\n",
    "                    a = np.random.rand()\n",
    "                    if a > 0.5:\n",
    "                        self.x[i,j,k] = 1\n",
    "                    else:\n",
    "                        self.x[i,j,k] = -1\n",
    "\n",
    "\n",
    "    def positions(self, i, j, k, pos):\n",
    "        max = self.L-1\n",
    "        if pos == 0: #pos up\n",
    "            if i == max:\n",
    "                return (0,j,k)\n",
    "            else:\n",
    "                return (i+1,j,k)\n",
    "        elif pos == 1: #pos down\n",
    "            if i == 0:\n",
    "                return (max,j,k)\n",
    "            else:\n",
    "                return (i-1,j,k)\n",
    "        elif pos == 2: #pos right\n",
    "            if k == max:\n",
    "                return (i,j,0)\n",
    "            else:\n",
    "                return (i,j,k+1)\n",
    "        elif pos == 3: #pos left\n",
    "            if k == 0:\n",
    "                return (i,j,max)\n",
    "            else:\n",
    "                return (i,j,k-1)\n",
    "        elif pos == 4: #pos front\n",
    "            if j == max:\n",
    "                return (i,0,k)\n",
    "            else:\n",
    "                return (i,j+1,k)\n",
    "        elif pos == 5: #pos behind\n",
    "            if j == 0:\n",
    "                return (i,max,k)\n",
    "            else:\n",
    "                return (i,j-1,k)\n",
    "\n",
    "    def delta_E(self, i, j, k):\n",
    "        counter = 0    \n",
    "        dE = 0\n",
    "        for pos in range(0,6):\n",
    "            counter += self.x[self.positions(i, j, k, pos)]\n",
    "        dE = 2*counter*self.x[i,j,k]\n",
    "        return dE\n",
    "\n",
    "    def Metropolis(self):\n",
    "        a, b, c = np.random.randint(0, self.L, 3)\n",
    "        dE = self.delta_E( a, b, c)\n",
    "        A = np.exp(-dE/self.T)\n",
    "        t = np.random.rand()\n",
    "        if t < A:\n",
    "            self.x[ a, b, c] *= -1\n",
    "            self.E += dE\n",
    "\n",
    "    def Magnetization(self):\n",
    "        m = 0\n",
    "        for i in range(self.L):\n",
    "            for j in range(self.L):\n",
    "                for k in range(self.L):\n",
    "                    m += self.x[i, j, k]\n",
    "\n",
    "        return abs(m/(self.L*self.L*self.L))            "
   ]
  },
  {
   "cell_type": "code",
   "execution_count": 4,
   "metadata": {},
   "outputs": [
    {
     "name": "stdout",
     "output_type": "stream",
     "text": [
      "When the numbers printed below this cell reach 16 the computation will be completed.\n",
      "1\n",
      "2\n",
      "3\n",
      "4\n",
      "5\n",
      "6\n",
      "7\n",
      "8\n",
      "9\n",
      "10\n",
      "11\n",
      "Time:  240.31338680000002\n"
     ]
    }
   ],
   "source": [
    "import timeit\n",
    "\n",
    "start = timeit.default_timer()\n",
    "\n",
    "l = 10\n",
    "Lat = Ising(l,0.01)\n",
    "\n",
    "m = []\n",
    "E = []\n",
    "X = []\n",
    "C = []\n",
    "w = []\n",
    "\n",
    "a = np.linspace(2.01,3.51,4)\n",
    "b = np.linspace(4.01,5.01,4)\n",
    "c = np.linspace(5.51,7.01,4)\n",
    "\n",
    "print(\"When the numbers printed below this cell \\\n",
    "reach 16 the computation will be completed.\")\n",
    "\n",
    "for k in range(12): # I put 12 becuase 4+4+4 = 12    \n",
    "    if k < 4:\n",
    "        w.append(a[k])\n",
    "        \n",
    "    elif 4 <= k < 8:      \n",
    "        w.append(b[k-4])\n",
    "        \n",
    "    elif k-8 >= 0:        \n",
    "        w.append(c[k-8])\n",
    "        \n",
    "    k += 1\n",
    "    \n",
    "w = np.linspace(2,7,11)\n",
    "    \n",
    "for j in range(len(w)):\n",
    "    Lat.T = w[j]    \n",
    "    Lat.SetGS()\n",
    "\n",
    "    for n in range (100*pow(l,3)):\n",
    "        Lat.Metropolis()\n",
    "        n += 1\n",
    "\n",
    "    x = []\n",
    "    y = []\n",
    "    z = []\n",
    "    t = []\n",
    "\n",
    "    for k in range(300):\n",
    "        for i in range (pow(l,3)):            \n",
    "            Lat.Metropolis()\n",
    "            i += 1\n",
    "        a = Lat.Magnetization()\n",
    "        x.append(a)\n",
    "        y.append(Lat.E)\n",
    "        z.append(pow(a,2))\n",
    "        t.append(pow(Lat.E,2))\n",
    "        k += 1\n",
    "    \n",
    "    m.append(np.mean(x))\n",
    "    E.append(np.mean(y))\n",
    "    X.append((1/Lat.T)*(np.mean(z)-pow(np.mean(x),2)))\n",
    "    C.append(1/pow(Lat.T,2)*(np.mean(t)-pow(np.mean(y),2)))\n",
    "    j += 1\n",
    "    \n",
    "    print(j)\n",
    "\n",
    "stop = timeit.default_timer()\n",
    "\n",
    "print('Time: ', stop - start) "
   ]
  },
  {
   "cell_type": "code",
   "execution_count": 5,
   "metadata": {
    "scrolled": true
   },
   "outputs": [
    {
     "data": {
      "text/plain": [
       "Text(0.5, 1.0, 'Magnetization')"
      ]
     },
     "execution_count": 5,
     "metadata": {},
     "output_type": "execute_result"
    },
    {
     "data": {
      "image/png": "[encoded data removed]",
      "text/plain": [
       "<Figure size 432x288 with 1 Axes>"
      ]
     },
     "metadata": {
      "needs_background": "light"
     },
     "output_type": "display_data"
    }
   ],
   "source": [
    "# Magnetization as a function of the temperature\n",
    "plt.plot(w, m, '.-')\n",
    "plt.title(\"Magnetization\")"
   ]
  },
  {
   "cell_type": "code",
   "execution_count": 6,
   "metadata": {},
   "outputs": [
    {
     "data": {
      "text/plain": [
       "Text(0.5, 1.0, 'Energy')"
      ]
     },
     "execution_count": 6,
     "metadata": {},
     "output_type": "execute_result"
    },
    {
     "data": {
      "image/png": "[encoded data removed]",
      "text/plain": [
       "<Figure size 432x288 with 1 Axes>"
      ]
     },
     "metadata": {
      "needs_background": "light"
     },
     "output_type": "display_data"
    }
   ],
   "source": [
    "# Energy as a function of the temperature\n",
    "plt.plot(w, E, '.-')\n",
    "plt.title(\"Energy\")"
   ]
  },
  {
   "cell_type": "code",
   "execution_count": 7,
   "metadata": {},
   "outputs": [
    {
     "data": {
      "text/plain": [
       "Text(0.5, 1.0, 'Susceptivity')"
      ]
     },
     "execution_count": 7,
     "metadata": {},
     "output_type": "execute_result"
    },
    {
     "data": {
      "image/png": "[encoded data removed]",
      "text/plain": [
       "<Figure size 432x288 with 1 Axes>"
      ]
     },
     "metadata": {
      "needs_background": "light"
     },
     "output_type": "display_data"
    }
   ],
   "source": [
    "# Susceptivity as a function of temperature\n",
    "plt.plot(w, X, '.-')\n",
    "plt.title(\"Susceptivity\")"
   ]
  },
  {
   "cell_type": "code",
   "execution_count": 8,
   "metadata": {},
   "outputs": [
    {
     "data": {
      "text/plain": [
       "Text(0.5, 1.0, 'Heat Capacity')"
      ]
     },
     "execution_count": 8,
     "metadata": {},
     "output_type": "execute_result"
    },
    {
     "data": {
      "image/png": "[encoded data removed]",
      "text/plain": [
       "<Figure size 432x288 with 1 Axes>"
      ]
     },
     "metadata": {
      "needs_background": "light"
     },
     "output_type": "display_data"
    }
   ],
   "source": [
    "#Heat capacity as a function of temperature\n",
    "plt.plot(w, C, '.-')\n",
    "plt.title(\"Heat Capacity\")"
   ]
  }
 ],
 "metadata": {
  "kernelspec": {
   "display_name": "Python 3",
   "language": "python",
   "name": "python3"
  },
  "language_info": {
   "codemirror_mode": {
    "name": "ipython",
    "version": 3
   },
   "file_extension": ".py",
   "mimetype": "text/x-python",
   "name": "python",
   "nbconvert_exporter": "python",
   "pygments_lexer": "ipython3",
   "version": "3.7.6"
  }
 },
 "nbformat": 4,
 "nbformat_minor": 2
}
