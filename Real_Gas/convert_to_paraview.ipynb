{
 "cells": [
  {
   "cell_type": "code",
   "execution_count": 2,
   "metadata": {},
   "outputs": [],
   "source": [
    "import vtktools\n",
    "import numpy as np\n",
    "\n",
    "vtk_writer = vtktools.VTK_XML_Serial_Unstructured()\n",
    "\n",
    "\"\"\"\n",
    "The positions r_x, r_y, r_z and the forces F_x, F_y, F_z are written in their\n",
    "respective *.txt files.\n",
    "Every time step is stored in a new row.\n",
    "The delimiter is \" \".\n",
    "\"\"\"\n",
    "\n",
    "r_x = np.loadtxt(\"r_x.txt\", delimiter=\" \")\n",
    "r_y = np.loadtxt(\"r_y.txt\", delimiter=\" \")\n",
    "r_z = np.loadtxt(\"r_z.txt\", delimiter=\" \")\n",
    "F_x = np.loadtxt(\"F_x.txt\", delimiter=\" \")\n",
    "F_y = np.loadtxt(\"F_y.txt\", delimiter=\" \")\n",
    "F_z = np.loadtxt(\"F_z.txt\", delimiter=\" \")\n",
    "\n",
    "T = r_x.shape[0]  # number of time steps\n",
    "d = len(str(T-1)) # number of digits for formatting the file names\n",
    "\n",
    "\"\"\"\n",
    "Create the folder \"simu\" at first.\n",
    "\"\"\"\n",
    "for t in range(T):\n",
    "    vtk_writer.snapshot(\"simu/MD\"+str(t).zfill(d)+\".vtu\", \\\n",
    "                        r_x[t], r_y[t], r_z[t], \\\n",
    "                        x_force=F_x[t], y_force=F_y[t], z_force=F_z[t])\n",
    "\n",
    "vtk_writer.writePVD(\"MD.pvd\")\n"
   ]
  },
  {
   "cell_type": "code",
   "execution_count": null,
   "metadata": {},
   "outputs": [],
   "source": []
  }
 ],
 "metadata": {
  "kernelspec": {
   "display_name": "Python 3",
   "language": "python",
   "name": "python3"
  },
  "language_info": {
   "codemirror_mode": {
    "name": "ipython",
    "version": 3
   },
   "file_extension": ".py",
   "mimetype": "text/x-python",
   "name": "python",
   "nbconvert_exporter": "python",
   "pygments_lexer": "ipython3",
   "version": "3.7.6"
  }
 },
 "nbformat": 4,
 "nbformat_minor": 4
}
